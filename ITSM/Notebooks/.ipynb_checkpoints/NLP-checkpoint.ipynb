{
 "cells": [
  {
   "cell_type": "markdown",
   "id": "b0a3ae8d",
   "metadata": {},
   "source": [
    "# Processamento de Linguagem Natural\n",
    "&nbsp;O Processamento de Linguagem Natural (PLN) é um ramo da Inteligência Artificial que lida com a interação entre computadores e linguagens humanas. Envolve ensinar computadores a entender, interpretar e gerar linguagem humana, incluindo texto escrito e palavras faladas.  \n",
    "&nbsp;O PLN é usado em uma ampla gama de aplicações, incluindo chatbots, assistentes virtuais, mecanismos de busca, reconhecimento de fala, análise de sentimentos e tradução de idiomas."
   ]
  },
  {
   "cell_type": "code",
   "execution_count": 1,
   "id": "5300feb1",
   "metadata": {},
   "outputs": [],
   "source": [
    "import pandas as pd\n",
    "import numpy as np\n",
    "import nltk\n",
    "from nltk.corpus import stopwords\n",
    "from sklearn.feature_extraction.text import CountVectorizer\n",
    "from sklearn.decomposition import LatentDirichletAllocation\n",
    "import matplotlib.pyplot as plt\n",
    "from nltk.draw.dispersion import dispersion_plot\n",
    "from nltk import FreqDist\n",
    "import string"
   ]
  },
  {
   "cell_type": "code",
   "execution_count": 2,
   "id": "bc1a77d2",
   "metadata": {},
   "outputs": [
    {
     "data": {
      "text/html": [
       "<div>\n",
       "<style scoped>\n",
       "    .dataframe tbody tr th:only-of-type {\n",
       "        vertical-align: middle;\n",
       "    }\n",
       "\n",
       "    .dataframe tbody tr th {\n",
       "        vertical-align: top;\n",
       "    }\n",
       "\n",
       "    .dataframe thead th {\n",
       "        text-align: right;\n",
       "    }\n",
       "</style>\n",
       "<table border=\"1\" class=\"dataframe\">\n",
       "  <thead>\n",
       "    <tr style=\"text-align: right;\">\n",
       "      <th></th>\n",
       "      <th>postDate</th>\n",
       "      <th>category</th>\n",
       "      <th>author</th>\n",
       "      <th>title</th>\n",
       "      <th>textBody</th>\n",
       "    </tr>\n",
       "  </thead>\n",
       "  <tbody>\n",
       "    <tr>\n",
       "      <th>0</th>\n",
       "      <td>ITSM</td>\n",
       "      <td>[]</td>\n",
       "      <td>Tool Reviews</td>\n",
       "      <td>None</td>\n",
       "      <td>[Quick Content Limited, 20 Nightingales, Marke...</td>\n",
       "    </tr>\n",
       "    <tr>\n",
       "      <th>1</th>\n",
       "      <td>ITSM</td>\n",
       "      <td>[]</td>\n",
       "      <td>Tool Reviews</td>\n",
       "      <td>None</td>\n",
       "      <td>[Quick Content Limited, 20 Nightingales, Marke...</td>\n",
       "    </tr>\n",
       "    <tr>\n",
       "      <th>2</th>\n",
       "      <td>ITSM</td>\n",
       "      <td>[]</td>\n",
       "      <td>Tool Reviews</td>\n",
       "      <td>Got Questions?</td>\n",
       "      <td>[Quick Content Limited, 20 Nightingales, Marke...</td>\n",
       "    </tr>\n",
       "    <tr>\n",
       "      <th>3</th>\n",
       "      <td>ITSM</td>\n",
       "      <td>[]</td>\n",
       "      <td>Tool Reviews</td>\n",
       "      <td>None</td>\n",
       "      <td>[Quick Content Limited, 20 Nightingales, Marke...</td>\n",
       "    </tr>\n",
       "    <tr>\n",
       "      <th>4</th>\n",
       "      <td>ITSM</td>\n",
       "      <td>[]</td>\n",
       "      <td>Tool Reviews</td>\n",
       "      <td>None</td>\n",
       "      <td>[Quick Content Limited, 20 Nightingales, Marke...</td>\n",
       "    </tr>\n",
       "  </tbody>\n",
       "</table>\n",
       "</div>"
      ],
      "text/plain": [
       "  postDate category        author           title  \\\n",
       "0     ITSM       []  Tool Reviews            None   \n",
       "1     ITSM       []  Tool Reviews            None   \n",
       "2     ITSM       []  Tool Reviews  Got Questions?   \n",
       "3     ITSM       []  Tool Reviews            None   \n",
       "4     ITSM       []  Tool Reviews            None   \n",
       "\n",
       "                                            textBody  \n",
       "0  [Quick Content Limited, 20 Nightingales, Marke...  \n",
       "1  [Quick Content Limited, 20 Nightingales, Marke...  \n",
       "2  [Quick Content Limited, 20 Nightingales, Marke...  \n",
       "3  [Quick Content Limited, 20 Nightingales, Marke...  \n",
       "4  [Quick Content Limited, 20 Nightingales, Marke...  "
      ]
     },
     "execution_count": 2,
     "metadata": {},
     "output_type": "execute_result"
    }
   ],
   "source": [
    "df = pd.read_json(\"../scrapy_project/Output/papers.jsonl\", lines=True)\n",
    "df.head()"
   ]
  },
  {
   "cell_type": "code",
   "execution_count": 3,
   "id": "7b8e01a6",
   "metadata": {},
   "outputs": [
    {
     "data": {
      "text/html": [
       "<div>\n",
       "<style scoped>\n",
       "    .dataframe tbody tr th:only-of-type {\n",
       "        vertical-align: middle;\n",
       "    }\n",
       "\n",
       "    .dataframe tbody tr th {\n",
       "        vertical-align: top;\n",
       "    }\n",
       "\n",
       "    .dataframe thead th {\n",
       "        text-align: right;\n",
       "    }\n",
       "</style>\n",
       "<table border=\"1\" class=\"dataframe\">\n",
       "  <thead>\n",
       "    <tr style=\"text-align: right;\">\n",
       "      <th></th>\n",
       "      <th>postDate</th>\n",
       "      <th>category</th>\n",
       "      <th>author</th>\n",
       "      <th>title</th>\n",
       "      <th>textBody</th>\n",
       "      <th>text</th>\n",
       "      <th>cat</th>\n",
       "    </tr>\n",
       "  </thead>\n",
       "  <tbody>\n",
       "    <tr>\n",
       "      <th>0</th>\n",
       "      <td>Published on February 2, 2023</td>\n",
       "      <td>[Automation and AI, ITSM, Service Desk]</td>\n",
       "      <td>By Marat Adayev</td>\n",
       "      <td>Streamline Ticket Triage and Reduce Customer C...</td>\n",
       "      <td>[Today, the delivery of IT services to employe...</td>\n",
       "      <td>Today, the delivery of IT services to employee...</td>\n",
       "      <td>Automation and AI</td>\n",
       "    </tr>\n",
       "    <tr>\n",
       "      <th>1</th>\n",
       "      <td>Published on February 20, 2023</td>\n",
       "      <td>[Automation and AI, Digital Transformation, Em...</td>\n",
       "      <td>By Stephen Mann</td>\n",
       "      <td>Why Do Companies Need to Change ITSM Tool?</td>\n",
       "      <td>[So much has changed in the ,  world in the la...</td>\n",
       "      <td>So much has changed in the world in the last f...</td>\n",
       "      <td>Automation and AI</td>\n",
       "    </tr>\n",
       "    <tr>\n",
       "      <th>2</th>\n",
       "      <td>Published on January 2, 2023</td>\n",
       "      <td>[ITIL, ITSM, Service Desk]</td>\n",
       "      <td>By Daniel Breston</td>\n",
       "      <td>The ITIL 4 Service Value Chain Explained</td>\n",
       "      <td>[Let’s talk about the ,  4 service value chain...</td>\n",
       "      <td>Let’s talk about the 4 service value chain. Th...</td>\n",
       "      <td>ITIL</td>\n",
       "    </tr>\n",
       "    <tr>\n",
       "      <th>3</th>\n",
       "      <td>Published on January 18, 2023</td>\n",
       "      <td>[ITSM, Service Desk]</td>\n",
       "      <td>By Emma Lander</td>\n",
       "      <td>How to Become an IT Service Desk Manager</td>\n",
       "      <td>[Are you planning on becoming an IT service de...</td>\n",
       "      <td>Are you planning on becoming an IT service des...</td>\n",
       "      <td>ITSM</td>\n",
       "    </tr>\n",
       "    <tr>\n",
       "      <th>4</th>\n",
       "      <td>Published on January 2, 2023</td>\n",
       "      <td>[ITIL, ITSM, Service Desk]</td>\n",
       "      <td>By Sophie Danby</td>\n",
       "      <td>The ITIL 4 Service Value System Explained</td>\n",
       "      <td>[You might have noticed that ,  v3 was “supers...</td>\n",
       "      <td>You might have noticed that v3 was “superseded...</td>\n",
       "      <td>ITIL</td>\n",
       "    </tr>\n",
       "  </tbody>\n",
       "</table>\n",
       "</div>"
      ],
      "text/plain": [
       "                         postDate  \\\n",
       "0   Published on February 2, 2023   \n",
       "1  Published on February 20, 2023   \n",
       "2    Published on January 2, 2023   \n",
       "3   Published on January 18, 2023   \n",
       "4    Published on January 2, 2023   \n",
       "\n",
       "                                            category             author  \\\n",
       "0            [Automation and AI, ITSM, Service Desk]    By Marat Adayev   \n",
       "1  [Automation and AI, Digital Transformation, Em...    By Stephen Mann   \n",
       "2                         [ITIL, ITSM, Service Desk]  By Daniel Breston   \n",
       "3                               [ITSM, Service Desk]     By Emma Lander   \n",
       "4                         [ITIL, ITSM, Service Desk]    By Sophie Danby   \n",
       "\n",
       "                                               title  \\\n",
       "0  Streamline Ticket Triage and Reduce Customer C...   \n",
       "1         Why Do Companies Need to Change ITSM Tool?   \n",
       "2           The ITIL 4 Service Value Chain Explained   \n",
       "3           How to Become an IT Service Desk Manager   \n",
       "4          The ITIL 4 Service Value System Explained   \n",
       "\n",
       "                                            textBody  \\\n",
       "0  [Today, the delivery of IT services to employe...   \n",
       "1  [So much has changed in the ,  world in the la...   \n",
       "2  [Let’s talk about the ,  4 service value chain...   \n",
       "3  [Are you planning on becoming an IT service de...   \n",
       "4  [You might have noticed that ,  v3 was “supers...   \n",
       "\n",
       "                                                text                cat  \n",
       "0  Today, the delivery of IT services to employee...  Automation and AI  \n",
       "1  So much has changed in the world in the last f...  Automation and AI  \n",
       "2  Let’s talk about the 4 service value chain. Th...               ITIL  \n",
       "3  Are you planning on becoming an IT service des...               ITSM  \n",
       "4  You might have noticed that v3 was “superseded...               ITIL  "
      ]
     },
     "execution_count": 3,
     "metadata": {},
     "output_type": "execute_result"
    }
   ],
   "source": [
    "df = df[(df.postDate!=\"ITSM\")&(df.postDate!=\"Category: \")].reset_index(drop=True)\n",
    "\n",
    "df[\"text\"] = df.textBody.map(lambda x: \" \".join(i for i in x))\n",
    "df[\"text\"] = df.text.map(lambda x: \" \".join(i for i in x.split()))\n",
    "df[\"cat\"] = df.category.map(lambda x: x[0])\n",
    "\n",
    "df.head()"
   ]
  },
  {
   "cell_type": "markdown",
   "id": "b074f3d0",
   "metadata": {},
   "source": [
    "### LDA\n",
    "&nbsp;Latent Dirichlet Allocation (LDA) é um modelo probabilístico usado para modelagem de tópicos em processamento de linguagem natural. É um modelo estatístico generativo que permite que um conjunto de observações, na forma de documentos, seja explicado por variáveis latentes, que representam tópicos. O modelo assume que cada documento é uma mistura de um pequeno número de tópicos, e cada palavra no documento é gerada a partir de um desses tópicos."
   ]
  },
  {
   "cell_type": "markdown",
   "id": "d13feebd",
   "metadata": {},
   "source": [
    "&nbsp;No bloco de código abaixo, geraremos 10 tópicos para cada categoria de assunto, expandindo assim nossa exploração e análise do assunto."
   ]
  },
  {
   "cell_type": "code",
   "execution_count": 4,
   "id": "b5a3d45f",
   "metadata": {},
   "outputs": [
    {
     "name": "stdout",
     "output_type": "stream",
     "text": [
      "ITSM:\n",
      "                               need\n",
      "                               change\n",
      "                               devops\n",
      "                               new\n",
      "                               work\n",
      "                               people\n",
      "                               teams\n",
      "                               team\n",
      "                               cloud\n",
      "                               itsm\n",
      "----------------------------------------\n",
      "ITIL:\n",
      "                               release\n",
      "                               itsm\n",
      "                               business\n",
      "                               services\n",
      "                               cloud\n",
      "                               process\n",
      "                               catalog\n",
      "                               continual\n",
      "                               capacity\n",
      "                               improvement\n",
      "----------------------------------------\n",
      "Automation and AI:\n",
      "                               need\n",
      "                               technology\n",
      "                               analyst\n",
      "                               employees\n",
      "                               industry\n",
      "                               organizations\n",
      "                               chat\n",
      "                               use\n",
      "                               self\n",
      "                               support\n",
      "----------------------------------------\n",
      "Service Desk:\n",
      "                               might\n",
      "                               one\n",
      "                               many\n",
      "                               data\n",
      "                               value\n",
      "                               support\n",
      "                               help\n",
      "                               tool\n",
      "                               customer\n",
      "                               desk\n",
      "----------------------------------------\n",
      "Employee Experience:\n",
      "                               productivity\n",
      "                               organizations\n",
      "                               organization\n",
      "                               support\n",
      "                               end\n",
      "                               data\n",
      "                               itsm\n",
      "                               business\n",
      "                               employees\n",
      "                               employee\n",
      "----------------------------------------\n",
      "Enterprise Service Management:\n",
      "                               analyst\n",
      "                               success\n",
      "                               process\n",
      "                               itil\n",
      "                               services\n",
      "                               need\n",
      "                               desk\n",
      "                               data\n",
      "                               processes\n",
      "                               esm\n",
      "----------------------------------------\n",
      "People:\n",
      "                               good\n",
      "                               much\n",
      "                               personal\n",
      "                               crisis\n",
      "                               time\n",
      "                               itsm\n",
      "                               skills\n",
      "                               things\n",
      "                               work\n",
      "                               well\n",
      "----------------------------------------\n"
     ]
    }
   ],
   "source": [
    "cat = df.cat.value_counts().index.to_list()\n",
    "stopwords = nltk.corpus.stopwords.words('english')\n",
    "count_vect = CountVectorizer(max_df=0.8, min_df=2, stop_words=stopwords)\n",
    "\n",
    "top_topics = []\n",
    "\n",
    "for i in cat[:-1]:\n",
    "    inn_df = df[df.cat==i]\n",
    "    doc_term_matrix = count_vect.fit_transform(inn_df[\"text\"].values.astype('U'))\n",
    "    LDA = LatentDirichletAllocation(n_components=5, random_state=42)\n",
    "    LDA.fit(doc_term_matrix)\n",
    "    first_topic = LDA.components_[0]\n",
    "    top_topic_words = first_topic.argsort()[-10:]\n",
    "    l = []\n",
    "    for i in top_topic_words:\n",
    "        l.append(count_vect.get_feature_names_out()[i])\n",
    "    \n",
    "    top_topics.append(l)\n",
    "\n",
    "for c,t in zip(cat[:-1],top_topics):\n",
    "    print(f\"{c}:\")\n",
    "    for i in t:\n",
    "        print(\" \"*31+i)\n",
    "    print(\"-\"*40)"
   ]
  },
  {
   "cell_type": "markdown",
   "id": "8d55a861",
   "metadata": {},
   "source": [
    "### ITIL"
   ]
  },
  {
   "cell_type": "markdown",
   "id": "e9da295d",
   "metadata": {},
   "source": [
    "&nbsp;ITIL (Information Technology Infrastructure Library) é uma estrutura que fornece um conjunto de melhores práticas para gerenciamento de serviços de TI (ITSM). Foi originalmente desenvolvido no Reino Unido na década de 1980 pela Agência Central de Computadores e Telecomunicações (CCTA) como uma coleção de práticas de TI recomendadas para agências governamentais. Com o tempo, o ITIL tornou-se amplamente adotado por organizações nos setores público e privado como meio de melhorar a qualidade e a eficiência dos serviços de TI. O ITIL consiste em um conjunto de publicações que descrevem as melhores práticas para gerenciamento de serviços de TI, incluindo estratégia de serviço, design de serviço, transição de serviço, operação de serviço e melhoria contínua de serviço."
   ]
  },
  {
   "cell_type": "markdown",
   "id": "dfa15e2c",
   "metadata": {},
   "source": [
    "&nbsp;Named Entity Recognition (NER) é uma das subtarefas da Extração de Informações. O principal objetivo do NER é localizar entidades no documento."
   ]
  },
  {
   "cell_type": "code",
   "execution_count": 5,
   "id": "9169fc38",
   "metadata": {},
   "outputs": [
    {
     "data": {
      "text/plain": [
       "{'Axelos',\n",
       " 'ITIL',\n",
       " 'ITIL Master',\n",
       " 'ITIL Maturity Model',\n",
       " 'ITSM',\n",
       " 'Market Deeping',\n",
       " 'PeopleCert',\n",
       " 'Quick Content',\n",
       " 'SEO',\n",
       " 'Strategic Leader',\n",
       " 'UK',\n",
       " 'United Kingdom'}"
      ]
     },
     "execution_count": 5,
     "metadata": {},
     "output_type": "execute_result"
    }
   ],
   "source": [
    "#Seleção do documento \n",
    "paper = df.loc[df.title==\"What is ITIL?\",\"text\"].values[0]\n",
    "\n",
    "#Quebrar o texto em palavras    \n",
    "words = nltk.word_tokenize(paper, language=\"english\")\n",
    "\n",
    "#Identificar o papel gramatical de cada palavra \n",
    "tags = nltk.pos_tag(words)\n",
    "\n",
    "#Reconhecimento de entidade\n",
    "tree = nltk.ne_chunk(tags, binary=True)\n",
    "\n",
    "set(\" \".join(i[0] for i in t) for t in tree \n",
    "    if hasattr(t, \"label\") and t.label() == \"NE\")"
   ]
  },
  {
   "cell_type": "markdown",
   "id": "d9cb8928",
   "metadata": {},
   "source": [
    "&nbsp;As \"collocations\" são expressões de várias palavras que comumente ocorrem simultaneamente."
   ]
  },
  {
   "cell_type": "code",
   "execution_count": 9,
   "id": "0e414d6b",
   "metadata": {},
   "outputs": [
    {
     "name": "stdout",
     "output_type": "stream",
     "text": [
      "Market Deeping; PE6 8RU; United Kingdom; service desk; Content\n",
      "Limited; Quick Content; service management; change management;\n",
      "knowledge management; guiding principles; best practice; Service\n",
      "Management; continual improvement; industry analyst; problem\n",
      "management; digital transformation; knowledge base; service catalog;\n",
      "creativity facilitation; service availability\n"
     ]
    }
   ],
   "source": [
    "#Junção de todos os documentos sobre o tema \"ITIL\"\n",
    "itil_all = \" \".join(i for i in df.loc[df.cat==\"ITIL\",\"text\"])\n",
    "\n",
    "#Quebrar o texto em palavras\n",
    "tokens = nltk.word_tokenize(itil_all)\n",
    "\n",
    "#Collocations sobre o tema \"ITIL\"\n",
    "mytext = nltk.Text(tokens) \n",
    "mytext.collocations()"
   ]
  },
  {
   "cell_type": "markdown",
   "id": "bd290a04",
   "metadata": {},
   "source": [
    "&nbsp;Uma exibição de concordância nos mostra todas as ocorrências de uma determinada palavra, juntamente com algum contexto"
   ]
  },
  {
   "cell_type": "code",
   "execution_count": 10,
   "id": "49511edb",
   "metadata": {},
   "outputs": [
    {
     "name": "stdout",
     "output_type": "stream",
     "text": [
      "Displaying 25 of 872 matches:\n",
      ". Taking over 30 years of service management experience , and a team of people\n",
      " , strategies , type of work , or management structure. ” And ITIL 4 offers up\n",
      "lization through the creation and management of products and services. ” Again\n",
      "dance on processes has shifted to management practices in ITIL 4 ( and I ’ ve \n",
      " that ITIL 4 now talks to service management , not ITSM ) . As to what these m\n",
      "t , not ITSM ) . As to what these management practices are , Axelos states tha\n",
      "xelos states that : “ In ITIL , a management practice is a set of organization\n",
      "example of these , the 17 service management practices in the ITIL 4 service v\n",
      "ing v3 ’ s 26 processes with 34 “ management practices. ” It defines these pra\n",
      "L 4 ’ s move from ITSM to service management , the easiest way to differentiat\n",
      "other sources of ITSM and service management best practices , including : The \n",
      " ITIL 4 move from ITSM to service management made it both easier and more chal\n",
      " the two . Now that it is service management focused , it covers far more than\n",
      " chain , guiding principles , and management practices . The remaining two ele\n",
      "ITIL 4 four dimensions of service management replace the v3/2011 four Ps ( peo\n",
      "ble activities : ITIL 4 defines a management practice as The 34 management pra\n",
      "s a management practice as The 34 management practices replace the 26 processe\n",
      "esses . With ITIL 4 , new service management and broader general management ca\n",
      "ce management and broader general management capabilities are included . There\n",
      " such as capacity and performance management , change enablement , and monitor\n",
      "lement , and monitoring and event management . Practice content has changed , \n",
      "ould ring alarm bells in capacity management , whether requirements were adequ\n",
      " fundamental has always been risk management – how do we know what the busines\n",
      "sful publication `` Service Level Management - a practitioners guide '' . She \n",
      "ber of the itSMF UK Service Level Management ; Service Design ; and SIAM Speci\n"
     ]
    }
   ],
   "source": [
    "#Concordance da palavra \"management\"\n",
    "mytext.concordance(\"management\")"
   ]
  },
  {
   "cell_type": "markdown",
   "id": "ec9b7af5",
   "metadata": {},
   "source": [
    "&nbsp;A dispersão lexical é uma visualização que nos permite ver onde um determinado termo aparece em um documento ou conjunto de documentos."
   ]
  },
  {
   "cell_type": "code",
   "execution_count": 11,
   "id": "cc4550cf",
   "metadata": {},
   "outputs": [
    {
     "data": {
      "image/png": "[encoded data removed]",
      "text/plain": [
       "<Figure size 640x480 with 1 Axes>"
      ]
     },
     "metadata": {},
     "output_type": "display_data"
    }
   ],
   "source": [
    "mytext.dispersion_plot(top_topics[1])"
   ]
  },
  {
   "cell_type": "markdown",
   "id": "a2697e95",
   "metadata": {},
   "source": [
    "&nbsp;Distribuição da frequência de algumas das palavras no tema ITIL. "
   ]
  },
  {
   "cell_type": "code",
   "execution_count": 12,
   "id": "052feff7",
   "metadata": {},
   "outputs": [
    {
     "data": {
      "image/png": "[encoded data removed]",
      "text/plain": [
       "<Figure size 640x480 with 1 Axes>"
      ]
     },
     "metadata": {},
     "output_type": "display_data"
    }
   ],
   "source": [
    "stopwords_set = set(nltk.corpus.stopwords.words('english'))\n",
    "words = [i for i in tokens if not i in stopwords_set if len(i) > 1]\n",
    "freq = FreqDist(words)\n",
    "freq.plot(20, cumulative=True)\n",
    "plt.show()"
   ]
  },
  {
   "cell_type": "markdown",
   "id": "680f9063",
   "metadata": {},
   "source": [
    "&nbsp;O PLN abrange várias técnicas e métodos, incluindo extração de informações, recuperação de informações e aprendizado de máquina. Com a crescente disponibilidade de dados e avanços na tecnologia, o PLN está pronto para desempenhar um papel ainda mais crítico na transformação da maneira como interagimos com as máquinas e uns com os outros no futuro."
   ]
  }
 ],
 "metadata": {
  "kernelspec": {
   "display_name": "Python 3 (ipykernel)",
   "language": "python",
   "name": "python3"
  },
  "language_info": {
   "codemirror_mode": {
    "name": "ipython",
    "version": 3
   },
   "file_extension": ".py",
   "mimetype": "text/x-python",
   "name": "python",
   "nbconvert_exporter": "python",
   "pygments_lexer": "ipython3",
   "version": "3.10.9"
  }
 },
 "nbformat": 4,
 "nbformat_minor": 5
}
